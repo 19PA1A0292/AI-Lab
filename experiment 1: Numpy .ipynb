{
  "nbformat": 4,
  "nbformat_minor": 0,
  "metadata": {
    "colab": {
      "name": "Welcome To Colaboratory",
      "provenance": [],
      "collapsed_sections": [],
      "include_colab_link": true
    },
    "kernelspec": {
      "display_name": "Python 3",
      "name": "python3"
    }
  },
  "cells": [
    {
      "cell_type": "markdown",
      "metadata": {
        "id": "view-in-github",
        "colab_type": "text"
      },
      "source": [
        "<a href=\"https://colab.research.google.com/github/19PA1A0292/AI-Lab/blob/master/experiment%201%3A%20Numpy%20.ipynb\" target=\"_parent\"><img src=\"https://colab.research.google.com/assets/colab-badge.svg\" alt=\"Open In Colab\"/></a>"
      ]
    },
    {
      "cell_type": "markdown",
      "metadata": {
        "id": "lCxtwDkGEbXw",
        "colab_type": "text"
      },
      "source": [
        " Experiment 1: Numpy"
      ]
    },
    {
      "cell_type": "markdown",
      "metadata": {
        "id": "tG7uWnXJEfLS",
        "colab_type": "text"
      },
      "source": [
        " 1)Different ways to create a Numpy arrays"
      ]
    },
    {
      "cell_type": "code",
      "metadata": {
        "id": "w4bilF7tEqmG",
        "colab_type": "code",
        "colab": {
          "base_uri": "https://localhost:8080/",
          "height": 34
        },
        "outputId": "c3e4e01d-55a2-49b3-b946-a3d9243a0d94"
      },
      "source": [
        " \n",
        "[ ]\n",
        "import numpy as np \n",
        "p=np.array([1,2,3])\n",
        "print(p)"
      ],
      "execution_count": 1,
      "outputs": [
        {
          "output_type": "stream",
          "text": [
            "[1 2 3]\n"
          ],
          "name": "stdout"
        }
      ]
    },
    {
      "cell_type": "markdown",
      "metadata": {
        "id": "j99wWvNGEug1",
        "colab_type": "text"
      },
      "source": [
        " 2) ADD,REMOVE, MODIFY array elements add"
      ]
    },
    {
      "cell_type": "markdown",
      "metadata": {
        "id": "CdcKVkfVEyfq",
        "colab_type": "text"
      },
      "source": [
        "Add"
      ]
    },
    {
      "cell_type": "code",
      "metadata": {
        "id": "IgMzZI-PEzPu",
        "colab_type": "code",
        "colab": {
          "base_uri": "https://localhost:8080/",
          "height": 34
        },
        "outputId": "c771bcd0-852c-47d8-f7d6-7f535aa6e96f"
      },
      "source": [
        " \n",
        "f=np.array([4,8,9])\n",
        "q=np.append(f,[6,5,8])\n",
        "print(q)"
      ],
      "execution_count": 2,
      "outputs": [
        {
          "output_type": "stream",
          "text": [
            "[4 8 9 6 5 8]\n"
          ],
          "name": "stdout"
        }
      ]
    },
    {
      "cell_type": "markdown",
      "metadata": {
        "id": "neGsNm41E49o",
        "colab_type": "text"
      },
      "source": [
        "Remove"
      ]
    },
    {
      "cell_type": "code",
      "metadata": {
        "id": "khU8W-pgE6Wv",
        "colab_type": "code",
        "colab": {
          "base_uri": "https://localhost:8080/",
          "height": 34
        },
        "outputId": "0119f33c-e7e6-4397-bbe3-3cbeab5c5048"
      },
      "source": [
        " \n",
        "c=np.delete(f,2)\n",
        "print(c)"
      ],
      "execution_count": 3,
      "outputs": [
        {
          "output_type": "stream",
          "text": [
            "[4 8]\n"
          ],
          "name": "stdout"
        }
      ]
    },
    {
      "cell_type": "markdown",
      "metadata": {
        "id": "v_VeSuoLFBMa",
        "colab_type": "text"
      },
      "source": [
        "Modify"
      ]
    },
    {
      "cell_type": "code",
      "metadata": {
        "id": "gt-9KYbEFCQU",
        "colab_type": "code",
        "colab": {
          "base_uri": "https://localhost:8080/",
          "height": 34
        },
        "outputId": "9f3151d9-528e-4fe0-8e21-8b30616ec905"
      },
      "source": [
        " \n",
        "c[c>3]=-1\n",
        "print(c)"
      ],
      "execution_count": 4,
      "outputs": [
        {
          "output_type": "stream",
          "text": [
            "[-1 -1]\n"
          ],
          "name": "stdout"
        }
      ]
    },
    {
      "cell_type": "markdown",
      "metadata": {
        "id": "m4ztvRYUFGYd",
        "colab_type": "text"
      },
      "source": [
        " 3) Arthematic operations on Numpy array"
      ]
    },
    {
      "cell_type": "code",
      "metadata": {
        "id": "8CeU6aNiFU5S",
        "colab_type": "code",
        "colab": {
          "base_uri": "https://localhost:8080/",
          "height": 832
        },
        "outputId": "c82a086a-a5f1-43cd-b703-01b64096c457"
      },
      "source": [
        " \n",
        "import numpy as np \n",
        "l=np.random.random((5,5))\n",
        "m=np.random.random((5,5))\n",
        "num_sum=np.add(l,m)\n",
        "num_diff=np.subtract(l,m)\n",
        "num_prod=np.multiply(l,m)\n",
        "num_quo=np.divide(l,m)\n",
        "num_mod=np.mod(l,m)\n",
        "num_pow=np.power(l,m)\n",
        "print(num_sum)\n",
        "print(num_diff)\n",
        "print(num_prod)\n",
        "print(num_quo)\n",
        "print(num_mod)\n",
        "print(num_pow)"
      ],
      "execution_count": 5,
      "outputs": [
        {
          "output_type": "stream",
          "text": [
            "[[0.50317155 1.45568036 0.90531808 1.07440541 0.73274781]\n",
            " [0.44408861 1.54922635 0.75554397 0.93877489 1.50913697]\n",
            " [0.41407494 0.46678794 0.31768947 0.67064238 0.62448104]\n",
            " [1.22848945 1.07765934 0.68902506 0.58142331 1.09476977]\n",
            " [0.22276967 1.5376917  1.1209333  0.61397068 0.63093321]]\n",
            "[[-0.10979944 -0.02690033  0.75449704  0.00158685  0.57605232]\n",
            " [-0.17909285 -0.40108286  0.59721277  0.75491572  0.23134727]\n",
            " [ 0.06718753  0.04619338  0.09229179  0.44066246  0.37577698]\n",
            " [ 0.19229145 -0.13160841  0.60337286  0.013362    0.19450899]\n",
            " [-0.22153206  0.24365861 -0.66064668 -0.32782241 -0.20843166]]\n",
            "[[6.02814238e-02 5.29570419e-01 6.25837606e-02 2.88586115e-01\n",
            "  5.12707669e-02]\n",
            " [4.12851115e-02 5.59808703e-01 5.35458966e-02 7.78501386e-02\n",
            "  5.55993211e-01]\n",
            " [4.17359720e-02 5.39392870e-02 2.31022067e-02 6.38944508e-02\n",
            "  6.21920593e-02]\n",
            " [3.68052583e-01 2.86007222e-01 2.76741798e-02 8.44686302e-02\n",
            "  2.90171777e-01]\n",
            " [1.37468104e-04 5.76281559e-01 2.05009356e-01 6.73731172e-02\n",
            "  8.86582398e-02]]\n",
            "[[6.41746715e-01 9.63711482e-01 1.10051961e+01 1.00295828e+00\n",
            "  8.35250713e+00]\n",
            " [4.25230486e-01 5.88698181e-01 8.54384233e+00 9.21189075e+00\n",
            "  1.36210539e+00]\n",
            " [1.38737372e+00 1.21965755e+00 1.81892402e+00 4.83218199e+00\n",
            "  4.02188046e+00]\n",
            " [1.37114808e+00 7.82333713e-01 1.50889059e+01 1.04704422e+00\n",
            "  1.43211698e+00]\n",
            " [2.78551779e-03 1.37658791e+00 2.58358660e-01 3.03833483e-01\n",
            "  5.03358632e-01]]\n",
            "[[1.96686059e-01 7.14390015e-01 3.91843227e-04 1.58684772e-03\n",
            "  2.76181375e-02]\n",
            " [1.32497879e-01 5.74071742e-01 4.30536021e-02 1.94790291e-02\n",
            "  2.31347269e-01]\n",
            " [6.71875322e-02 4.61933849e-02 9.22917884e-02 9.56925747e-02\n",
            "  2.72087930e-03]\n",
            " [1.92291450e-01 4.73025467e-01 3.80749269e-03 1.33620006e-02\n",
            "  1.94508987e-01]\n",
            " [6.18805179e-04 2.43658605e-01 2.30143308e-01 1.43074138e-01\n",
            "  2.11250776e-01]]\n",
            "[[0.60750778 0.77933415 0.98603877 0.71711274 0.96732351]\n",
            " [0.53270704 0.58204257 0.96952021 0.98483406 0.91503219]\n",
            " [0.78108698 0.75115465 0.83643697 0.93466274 0.91744543]\n",
            " [0.83764655 0.63595175 0.98147384 0.70861386 0.8206684 ]\n",
            " [0.19374966 0.92782822 0.27019326 0.40027333 0.52075052]]\n"
          ],
          "name": "stdout"
        }
      ]
    },
    {
      "cell_type": "markdown",
      "metadata": {
        "id": "kxLNOx8aFZLF",
        "colab_type": "text"
      },
      "source": [
        " 4)slicing and iterating of numpy array Slicing"
      ]
    },
    {
      "cell_type": "markdown",
      "metadata": {
        "id": "bdWIvVviFfYV",
        "colab_type": "text"
      },
      "source": [
        "Slicing"
      ]
    },
    {
      "cell_type": "code",
      "metadata": {
        "id": "E-1zxBnRFiT-",
        "colab_type": "code",
        "colab": {
          "base_uri": "https://localhost:8080/",
          "height": 34
        },
        "outputId": "f68575bc-4a18-451b-b5cc-2837b683075c"
      },
      "source": [
        " \n",
        "import numpy as np \n",
        "arr=np.array([1,2,3,4,5,6,7])\n",
        "print(arr[1:6])"
      ],
      "execution_count": 6,
      "outputs": [
        {
          "output_type": "stream",
          "text": [
            "[2 3 4 5 6]\n"
          ],
          "name": "stdout"
        }
      ]
    },
    {
      "cell_type": "markdown",
      "metadata": {
        "id": "BeNbMVW3FmyR",
        "colab_type": "text"
      },
      "source": [
        "Iterating"
      ]
    },
    {
      "cell_type": "code",
      "metadata": {
        "id": "53OOgfrNFpue",
        "colab_type": "code",
        "colab": {
          "base_uri": "https://localhost:8080/",
          "height": 140
        },
        "outputId": "c4136863-ec41-4083-e166-ae58a8f07c2d"
      },
      "source": [
        " \n",
        "for x in arr:\n",
        "  print(x)"
      ],
      "execution_count": 7,
      "outputs": [
        {
          "output_type": "stream",
          "text": [
            "1\n",
            "2\n",
            "3\n",
            "4\n",
            "5\n",
            "6\n",
            "7\n"
          ],
          "name": "stdout"
        }
      ]
    },
    {
      "cell_type": "markdown",
      "metadata": {
        "id": "nDUXPei2FtFS",
        "colab_type": "text"
      },
      "source": [
        " 5) matrix operations on bumpy arrays"
      ]
    },
    {
      "cell_type": "code",
      "metadata": {
        "id": "KS0o2FCzFxo3",
        "colab_type": "code",
        "colab": {
          "base_uri": "https://localhost:8080/",
          "height": 123
        },
        "outputId": "667b3218-3650-4cbb-c546-d1dd22b815c4"
      },
      "source": [
        " \n",
        "[ ]\n",
        "import numpy as np \n",
        "s=np.array([[1,2],[3,4]])\n",
        "t=np.array([[5,6],[7,8]])\n",
        "print(np.add(s,t))\n",
        "print(np.subtract(s,t))\n",
        "print(np.divide(s,t))"
      ],
      "execution_count": 8,
      "outputs": [
        {
          "output_type": "stream",
          "text": [
            "[[ 6  8]\n",
            " [10 12]]\n",
            "[[-4 -4]\n",
            " [-4 -4]]\n",
            "[[0.2        0.33333333]\n",
            " [0.42857143 0.5       ]]\n"
          ],
          "name": "stdout"
        }
      ]
    }
  ]
}